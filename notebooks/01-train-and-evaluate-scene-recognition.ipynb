{
 "cells": [
  {
   "cell_type": "markdown",
   "source": [
    "# CNNs for Scene Recognition"
   ],
   "metadata": {
    "collapsed": false
   },
   "id": "71793aa625de90d8"
  },
  {
   "cell_type": "code",
   "outputs": [],
   "source": [
    "import torch\n",
    "import logging\n",
    "\n",
    "from recognizer.data import ProjectDataset\n",
    "from recognizer.utils.visualise import Visualise\n",
    "from recognizer.model import ResNetFineTunedClassifier\n",
    "from recognizer.trainer import TorchRunner"
   ],
   "metadata": {
    "collapsed": true,
    "ExecuteTime": {
     "end_time": "2024-05-01T16:12:30.621956Z",
     "start_time": "2024-05-01T16:12:20.313893Z"
    }
   },
   "id": "initial_id",
   "execution_count": 1
  },
  {
   "cell_type": "markdown",
   "source": [
    "## Setup"
   ],
   "metadata": {
    "collapsed": false
   },
   "id": "253f5c9465c95760"
  },
  {
   "cell_type": "code",
   "outputs": [],
   "source": [
    "# configuring logging level\n",
    "logging.basicConfig(level=logging.INFO)\n",
    "# picking appropriate device to train the model\n",
    "if torch.cuda.is_available():\n",
    "    device = torch.device(\"cuda\")\n",
    "elif torch.backends.mps.is_available():\n",
    "    device = torch.device(\"mps\")\n",
    "else:\n",
    "    device = torch.device(\"cpu\")\n",
    "# dataset related config\n",
    "datasets_dir = \"../data\"\n",
    "training_dataset = f\"{datasets_dir}/train\"\n",
    "testing_dataset = f\"{datasets_dir}/test\"\n",
    "DEBUG_MODE = False\n",
    "RESTORE_CHECKPOINT = True"
   ],
   "metadata": {
    "collapsed": false,
    "ExecuteTime": {
     "end_time": "2024-05-01T16:12:32.459658Z",
     "start_time": "2024-05-01T16:12:32.440197Z"
    }
   },
   "id": "64581b4d405aa100",
   "execution_count": 2
  },
  {
   "cell_type": "code",
   "outputs": [],
   "source": [
    "train_loader, val_loader, test_loader = ProjectDataset.get_loaders()"
   ],
   "metadata": {
    "collapsed": false,
    "ExecuteTime": {
     "end_time": "2024-05-01T16:12:34.122181Z",
     "start_time": "2024-05-01T16:12:34.066191Z"
    }
   },
   "id": "8712a8096943791d",
   "execution_count": 3
  },
  {
   "cell_type": "code",
   "outputs": [],
   "source": [
    "if DEBUG_MODE:\n",
    "    Visualise.display_sample_per_class(train_loader)"
   ],
   "metadata": {
    "collapsed": false,
    "ExecuteTime": {
     "end_time": "2024-05-01T16:12:37.813122Z",
     "start_time": "2024-05-01T16:12:37.811255Z"
    }
   },
   "id": "47a7282b23e26ab",
   "execution_count": 4
  },
  {
   "cell_type": "code",
   "outputs": [
    {
     "name": "stdout",
     "output_type": "stream",
     "text": [
      "----------------------------------------------------------------\n",
      "        Layer (type)               Output Shape         Param #\n",
      "================================================================\n",
      "            Conv2d-1         [-1, 64, 122, 122]           9,408\n",
      "       BatchNorm2d-2         [-1, 64, 122, 122]             128\n",
      "              ReLU-3         [-1, 64, 122, 122]               0\n",
      "         MaxPool2d-4           [-1, 64, 61, 61]               0\n",
      "            Conv2d-5           [-1, 64, 61, 61]          36,864\n",
      "       BatchNorm2d-6           [-1, 64, 61, 61]             128\n",
      "              ReLU-7           [-1, 64, 61, 61]               0\n",
      "            Conv2d-8           [-1, 64, 61, 61]          36,864\n",
      "       BatchNorm2d-9           [-1, 64, 61, 61]             128\n",
      "             ReLU-10           [-1, 64, 61, 61]               0\n",
      "       BasicBlock-11           [-1, 64, 61, 61]               0\n",
      "           Conv2d-12           [-1, 64, 61, 61]          36,864\n",
      "      BatchNorm2d-13           [-1, 64, 61, 61]             128\n",
      "             ReLU-14           [-1, 64, 61, 61]               0\n",
      "           Conv2d-15           [-1, 64, 61, 61]          36,864\n",
      "      BatchNorm2d-16           [-1, 64, 61, 61]             128\n",
      "             ReLU-17           [-1, 64, 61, 61]               0\n",
      "       BasicBlock-18           [-1, 64, 61, 61]               0\n",
      "           Conv2d-19           [-1, 64, 61, 61]          36,864\n",
      "      BatchNorm2d-20           [-1, 64, 61, 61]             128\n",
      "             ReLU-21           [-1, 64, 61, 61]               0\n",
      "           Conv2d-22           [-1, 64, 61, 61]          36,864\n",
      "      BatchNorm2d-23           [-1, 64, 61, 61]             128\n",
      "             ReLU-24           [-1, 64, 61, 61]               0\n",
      "       BasicBlock-25           [-1, 64, 61, 61]               0\n",
      "           Conv2d-26          [-1, 128, 31, 31]          73,728\n",
      "      BatchNorm2d-27          [-1, 128, 31, 31]             256\n",
      "             ReLU-28          [-1, 128, 31, 31]               0\n",
      "           Conv2d-29          [-1, 128, 31, 31]         147,456\n",
      "      BatchNorm2d-30          [-1, 128, 31, 31]             256\n",
      "           Conv2d-31          [-1, 128, 31, 31]           8,192\n",
      "      BatchNorm2d-32          [-1, 128, 31, 31]             256\n",
      "             ReLU-33          [-1, 128, 31, 31]               0\n",
      "       BasicBlock-34          [-1, 128, 31, 31]               0\n",
      "           Conv2d-35          [-1, 128, 31, 31]         147,456\n",
      "      BatchNorm2d-36          [-1, 128, 31, 31]             256\n",
      "             ReLU-37          [-1, 128, 31, 31]               0\n",
      "           Conv2d-38          [-1, 128, 31, 31]         147,456\n",
      "      BatchNorm2d-39          [-1, 128, 31, 31]             256\n",
      "             ReLU-40          [-1, 128, 31, 31]               0\n",
      "       BasicBlock-41          [-1, 128, 31, 31]               0\n",
      "           Conv2d-42          [-1, 128, 31, 31]         147,456\n",
      "      BatchNorm2d-43          [-1, 128, 31, 31]             256\n",
      "             ReLU-44          [-1, 128, 31, 31]               0\n",
      "           Conv2d-45          [-1, 128, 31, 31]         147,456\n",
      "      BatchNorm2d-46          [-1, 128, 31, 31]             256\n",
      "             ReLU-47          [-1, 128, 31, 31]               0\n",
      "       BasicBlock-48          [-1, 128, 31, 31]               0\n",
      "           Conv2d-49          [-1, 128, 31, 31]         147,456\n",
      "      BatchNorm2d-50          [-1, 128, 31, 31]             256\n",
      "             ReLU-51          [-1, 128, 31, 31]               0\n",
      "           Conv2d-52          [-1, 128, 31, 31]         147,456\n",
      "      BatchNorm2d-53          [-1, 128, 31, 31]             256\n",
      "             ReLU-54          [-1, 128, 31, 31]               0\n",
      "       BasicBlock-55          [-1, 128, 31, 31]               0\n",
      "           Conv2d-56          [-1, 256, 16, 16]         294,912\n",
      "      BatchNorm2d-57          [-1, 256, 16, 16]             512\n",
      "             ReLU-58          [-1, 256, 16, 16]               0\n",
      "           Conv2d-59          [-1, 256, 16, 16]         589,824\n",
      "      BatchNorm2d-60          [-1, 256, 16, 16]             512\n",
      "           Conv2d-61          [-1, 256, 16, 16]          32,768\n",
      "      BatchNorm2d-62          [-1, 256, 16, 16]             512\n",
      "             ReLU-63          [-1, 256, 16, 16]               0\n",
      "       BasicBlock-64          [-1, 256, 16, 16]               0\n",
      "           Conv2d-65          [-1, 256, 16, 16]         589,824\n",
      "      BatchNorm2d-66          [-1, 256, 16, 16]             512\n",
      "             ReLU-67          [-1, 256, 16, 16]               0\n",
      "           Conv2d-68          [-1, 256, 16, 16]         589,824\n",
      "      BatchNorm2d-69          [-1, 256, 16, 16]             512\n",
      "             ReLU-70          [-1, 256, 16, 16]               0\n",
      "       BasicBlock-71          [-1, 256, 16, 16]               0\n",
      "           Conv2d-72          [-1, 256, 16, 16]         589,824\n",
      "      BatchNorm2d-73          [-1, 256, 16, 16]             512\n",
      "             ReLU-74          [-1, 256, 16, 16]               0\n",
      "           Conv2d-75          [-1, 256, 16, 16]         589,824\n",
      "      BatchNorm2d-76          [-1, 256, 16, 16]             512\n",
      "             ReLU-77          [-1, 256, 16, 16]               0\n",
      "       BasicBlock-78          [-1, 256, 16, 16]               0\n",
      "           Conv2d-79          [-1, 256, 16, 16]         589,824\n",
      "      BatchNorm2d-80          [-1, 256, 16, 16]             512\n",
      "             ReLU-81          [-1, 256, 16, 16]               0\n",
      "           Conv2d-82          [-1, 256, 16, 16]         589,824\n",
      "      BatchNorm2d-83          [-1, 256, 16, 16]             512\n",
      "             ReLU-84          [-1, 256, 16, 16]               0\n",
      "       BasicBlock-85          [-1, 256, 16, 16]               0\n",
      "           Conv2d-86          [-1, 256, 16, 16]         589,824\n",
      "      BatchNorm2d-87          [-1, 256, 16, 16]             512\n",
      "             ReLU-88          [-1, 256, 16, 16]               0\n",
      "           Conv2d-89          [-1, 256, 16, 16]         589,824\n",
      "      BatchNorm2d-90          [-1, 256, 16, 16]             512\n",
      "             ReLU-91          [-1, 256, 16, 16]               0\n",
      "       BasicBlock-92          [-1, 256, 16, 16]               0\n",
      "           Conv2d-93          [-1, 256, 16, 16]         589,824\n",
      "      BatchNorm2d-94          [-1, 256, 16, 16]             512\n",
      "             ReLU-95          [-1, 256, 16, 16]               0\n",
      "           Conv2d-96          [-1, 256, 16, 16]         589,824\n",
      "      BatchNorm2d-97          [-1, 256, 16, 16]             512\n",
      "             ReLU-98          [-1, 256, 16, 16]               0\n",
      "       BasicBlock-99          [-1, 256, 16, 16]               0\n",
      "          Conv2d-100            [-1, 512, 8, 8]       1,179,648\n",
      "     BatchNorm2d-101            [-1, 512, 8, 8]           1,024\n",
      "            ReLU-102            [-1, 512, 8, 8]               0\n",
      "          Conv2d-103            [-1, 512, 8, 8]       2,359,296\n",
      "     BatchNorm2d-104            [-1, 512, 8, 8]           1,024\n",
      "          Conv2d-105            [-1, 512, 8, 8]         131,072\n",
      "     BatchNorm2d-106            [-1, 512, 8, 8]           1,024\n",
      "            ReLU-107            [-1, 512, 8, 8]               0\n",
      "      BasicBlock-108            [-1, 512, 8, 8]               0\n",
      "          Conv2d-109            [-1, 512, 8, 8]       2,359,296\n",
      "     BatchNorm2d-110            [-1, 512, 8, 8]           1,024\n",
      "            ReLU-111            [-1, 512, 8, 8]               0\n",
      "          Conv2d-112            [-1, 512, 8, 8]       2,359,296\n",
      "     BatchNorm2d-113            [-1, 512, 8, 8]           1,024\n",
      "            ReLU-114            [-1, 512, 8, 8]               0\n",
      "      BasicBlock-115            [-1, 512, 8, 8]               0\n",
      "          Conv2d-116            [-1, 512, 8, 8]       2,359,296\n",
      "     BatchNorm2d-117            [-1, 512, 8, 8]           1,024\n",
      "            ReLU-118            [-1, 512, 8, 8]               0\n",
      "          Conv2d-119            [-1, 512, 8, 8]       2,359,296\n",
      "     BatchNorm2d-120            [-1, 512, 8, 8]           1,024\n",
      "            ReLU-121            [-1, 512, 8, 8]               0\n",
      "      BasicBlock-122            [-1, 512, 8, 8]               0\n",
      "AdaptiveAvgPool2d-123            [-1, 512, 1, 1]               0\n",
      "          Linear-124                  [-1, 512]         262,656\n",
      "            ReLU-125                  [-1, 512]               0\n",
      "         Dropout-126                  [-1, 512]               0\n",
      "          Linear-127                   [-1, 40]          20,520\n",
      "      LogSoftmax-128                   [-1, 40]               0\n",
      "          ResNet-129                   [-1, 40]               0\n",
      "================================================================\n",
      "Total params: 21,567,848\n",
      "Trainable params: 283,176\n",
      "Non-trainable params: 21,284,672\n",
      "----------------------------------------------------------------\n",
      "Input size (MB): 0.68\n",
      "Forward/backward pass size (MB): 117.70\n",
      "Params size (MB): 82.27\n",
      "Estimated Total Size (MB): 200.65\n",
      "----------------------------------------------------------------\n"
     ]
    }
   ],
   "source": [
    "classifier = ResNetFineTunedClassifier()\n",
    "TorchRunner.get_summary(classifier, (3, 244, 244))"
   ],
   "metadata": {
    "collapsed": false,
    "ExecuteTime": {
     "end_time": "2024-05-01T16:12:39.360497Z",
     "start_time": "2024-05-01T16:12:38.900011Z"
    }
   },
   "id": "1c8b97d4c342d305",
   "execution_count": 5
  },
  {
   "cell_type": "code",
   "outputs": [],
   "source": [
    "if RESTORE_CHECKPOINT:\n",
    "    classifier.load(\"../checkpoints/models/notebook-latest.safetensors\")"
   ],
   "metadata": {
    "collapsed": false,
    "ExecuteTime": {
     "end_time": "2024-05-01T16:12:40.888534Z",
     "start_time": "2024-05-01T16:12:40.779015Z"
    }
   },
   "id": "e9ba5cd57463d4bd",
   "execution_count": 6
  },
  {
   "cell_type": "code",
   "outputs": [
    {
     "name": "stderr",
     "output_type": "stream",
     "text": [
      "INFO:recognizer.trainer:Validation/Test: Average loss: 2.1513, Accuracy: 3142/8000 (39.27%)\n",
      "INFO:root:\n",
      "Pre-training accuracy: 39.27%\n",
      "Pre-training loss: 2.1513\n",
      "\n",
      "INFO:recognizer.trainer:Validation/Test: Average loss: 3.6894, Accuracy: 15/54 (27.78%)\n",
      "INFO:root:\n",
      "Pre-training accuracy: 27.78%\n",
      "Pre-training loss: 3.6894\n"
     ]
    }
   ],
   "source": [
    "_pre_val_loss, _pre_val_acc = TorchRunner.test(\n",
    "    loader=val_loader,\n",
    "    model=classifier,\n",
    "    loss_fn=torch.nn.functional.cross_entropy,\n",
    "    device=device,\n",
    ")\n",
    "logging.info(\n",
    "    f\"\\nPre-training accuracy: {round(_pre_val_acc, 2)}%\\nPre-training loss: {round(_pre_val_loss, 4)}\\n\"\n",
    ")\n",
    "\n",
    "_pre_test_loss, _pre_test_acc = TorchRunner.test(\n",
    "    loader=test_loader,\n",
    "    model=classifier,\n",
    "    loss_fn=torch.nn.functional.cross_entropy,\n",
    "    device=device,\n",
    ")\n",
    "logging.info(\n",
    "    f\"\\nPre-training accuracy: {round(_pre_test_acc, 2)}%\\nPre-training loss: {round(_pre_test_loss, 4)}\"\n",
    ")"
   ],
   "metadata": {
    "collapsed": false,
    "ExecuteTime": {
     "end_time": "2024-04-21T06:49:35.600375Z",
     "start_time": "2024-04-21T06:48:50.463852Z"
    }
   },
   "id": "f9e5a6ccfe0fbe34",
   "execution_count": 7
  },
  {
   "cell_type": "code",
   "outputs": [],
   "source": [
    "if DEBUG_MODE:\n",
    "    # A single step of training\n",
    "    TorchRunner.training_step(\n",
    "        train_loader=train_loader,\n",
    "        model=classifier,\n",
    "        loss_fn=torch.nn.functional.cross_entropy,\n",
    "        optimizer=torch.optim.Adam(\n",
    "            classifier.parameters(), lr=0.001, weight_decay=0.0005\n",
    "        ),\n",
    "        device=device,\n",
    "    )"
   ],
   "metadata": {
    "collapsed": false,
    "ExecuteTime": {
     "end_time": "2024-05-01T16:13:12.066890Z",
     "start_time": "2024-05-01T16:13:12.064288Z"
    }
   },
   "id": "c560f4ce281a357f",
   "execution_count": 7
  },
  {
   "cell_type": "code",
   "outputs": [
    {
     "name": "stderr",
     "output_type": "stream",
     "text": [
      "INFO:recognizer.trainer:Epoch: 1/1\n",
      "=====================================\n",
      "  0%|          | 0/500 [00:00<?, ?it/s]Exception ignored in: <function _MultiProcessingDataLoaderIter.__del__ at 0x126c5aac0>\n",
      "Traceback (most recent call last):\n",
      "  File \"/opt/homebrew/anaconda3/envs/scene-recognition/lib/python3.11/site-packages/torch/utils/data/dataloader.py\", line 1479, in __del__\n",
      "    self._shutdown_workers()\n",
      "  File \"/opt/homebrew/anaconda3/envs/scene-recognition/lib/python3.11/site-packages/torch/utils/data/dataloader.py\", line 1443, in _shutdown_workers\n",
      "    w.join(timeout=_utils.MP_STATUS_CHECK_INTERVAL)\n",
      "  File \"/opt/homebrew/anaconda3/envs/scene-recognition/lib/python3.11/multiprocessing/process.py\", line 149, in join\n",
      "    res = self._popen.wait(timeout)\n",
      "          ^^^^^^^^^^^^^^^^^^^^^^^^^\n",
      "  File \"/opt/homebrew/anaconda3/envs/scene-recognition/lib/python3.11/multiprocessing/popen_fork.py\", line 40, in wait\n",
      "    if not wait([self.sentinel], timeout):\n",
      "           ^^^^^^^^^^^^^^^^^^^^^^^^^^^^^^\n",
      "  File \"/opt/homebrew/anaconda3/envs/scene-recognition/lib/python3.11/multiprocessing/connection.py\", line 947, in wait\n",
      "    ready = selector.select(timeout)\n",
      "            ^^^^^^^^^^^^^^^^^^^^^^^^\n",
      "  File \"/opt/homebrew/anaconda3/envs/scene-recognition/lib/python3.11/selectors.py\", line 415, in select\n",
      "    fd_event_list = self._selector.poll(timeout)\n",
      "                    ^^^^^^^^^^^^^^^^^^^^^^^^^^^^\n",
      "KeyboardInterrupt: \n",
      "  0%|          | 0/500 [00:30<?, ?it/s]\n"
     ]
    },
    {
     "ename": "KeyboardInterrupt",
     "evalue": "",
     "output_type": "error",
     "traceback": [
      "\u001B[0;31m---------------------------------------------------------------------------\u001B[0m",
      "\u001B[0;31mKeyboardInterrupt\u001B[0m                         Traceback (most recent call last)",
      "Cell \u001B[0;32mIn[9], line 7\u001B[0m\n\u001B[1;32m      3\u001B[0m exponential_scheduler \u001B[38;5;241m=\u001B[39m torch\u001B[38;5;241m.\u001B[39moptim\u001B[38;5;241m.\u001B[39mlr_scheduler\u001B[38;5;241m.\u001B[39mExponentialLR(optimiser, gamma\u001B[38;5;241m=\u001B[39m\u001B[38;5;241m0.99\u001B[39m)\n\u001B[1;32m      4\u001B[0m plateau_scheduler \u001B[38;5;241m=\u001B[39m torch\u001B[38;5;241m.\u001B[39moptim\u001B[38;5;241m.\u001B[39mlr_scheduler\u001B[38;5;241m.\u001B[39mReduceLROnPlateau(\n\u001B[1;32m      5\u001B[0m     optimiser, mode\u001B[38;5;241m=\u001B[39m\u001B[38;5;124m\"\u001B[39m\u001B[38;5;124mmin\u001B[39m\u001B[38;5;124m\"\u001B[39m, factor\u001B[38;5;241m=\u001B[39m\u001B[38;5;241m0.2\u001B[39m, patience\u001B[38;5;241m=\u001B[39m\u001B[38;5;241m10\u001B[39m, min_lr\u001B[38;5;241m=\u001B[39m\u001B[38;5;241m0.000001\u001B[39m\n\u001B[1;32m      6\u001B[0m )\n\u001B[0;32m----> 7\u001B[0m \u001B[43mTorchRunner\u001B[49m\u001B[38;5;241;43m.\u001B[39;49m\u001B[43mtrain\u001B[49m\u001B[43m(\u001B[49m\n\u001B[1;32m      8\u001B[0m \u001B[43m    \u001B[49m\u001B[43mtrain_loader\u001B[49m\u001B[38;5;241;43m=\u001B[39;49m\u001B[43mtrain_loader\u001B[49m\u001B[43m,\u001B[49m\n\u001B[1;32m      9\u001B[0m \u001B[43m    \u001B[49m\u001B[43mval_loader\u001B[49m\u001B[38;5;241;43m=\u001B[39;49m\u001B[43mval_loader\u001B[49m\u001B[43m,\u001B[49m\n\u001B[1;32m     10\u001B[0m \u001B[43m    \u001B[49m\u001B[43mmodel\u001B[49m\u001B[38;5;241;43m=\u001B[39;49m\u001B[43mclassifier\u001B[49m\u001B[43m,\u001B[49m\n\u001B[1;32m     11\u001B[0m \u001B[43m    \u001B[49m\u001B[43mloss_fn\u001B[49m\u001B[38;5;241;43m=\u001B[39;49m\u001B[43mtorch\u001B[49m\u001B[38;5;241;43m.\u001B[39;49m\u001B[43mnn\u001B[49m\u001B[38;5;241;43m.\u001B[39;49m\u001B[43mfunctional\u001B[49m\u001B[38;5;241;43m.\u001B[39;49m\u001B[43mcross_entropy\u001B[49m\u001B[43m,\u001B[49m\n\u001B[1;32m     12\u001B[0m \u001B[43m    \u001B[49m\u001B[43moptimizer\u001B[49m\u001B[38;5;241;43m=\u001B[39;49m\u001B[43moptimiser\u001B[49m\u001B[43m,\u001B[49m\n\u001B[1;32m     13\u001B[0m \u001B[43m    \u001B[49m\u001B[43mscheduler\u001B[49m\u001B[38;5;241;43m=\u001B[39;49m\u001B[43mplateau_scheduler\u001B[49m\u001B[43m,\u001B[49m\n\u001B[1;32m     14\u001B[0m \u001B[43m    \u001B[49m\u001B[43mepochs\u001B[49m\u001B[38;5;241;43m=\u001B[39;49m\u001B[38;5;241;43m1\u001B[39;49m\u001B[43m,\u001B[49m\n\u001B[1;32m     15\u001B[0m \u001B[43m    \u001B[49m\u001B[43mdevice\u001B[49m\u001B[38;5;241;43m=\u001B[39;49m\u001B[43mdevice\u001B[49m\u001B[43m,\u001B[49m\n\u001B[1;32m     16\u001B[0m \u001B[43m)\u001B[49m\n",
      "File \u001B[0;32m~/Documents/dev/pocs/scene-recognition/recognizer/trainer.py:85\u001B[0m, in \u001B[0;36mTorchRunner.train\u001B[0;34m(train_loader, val_loader, model, loss_fn, optimizer, scheduler, epochs, device, runs_folder)\u001B[0m\n\u001B[1;32m     78\u001B[0m \u001B[38;5;28;01mfor\u001B[39;00m epoch \u001B[38;5;129;01min\u001B[39;00m \u001B[38;5;28mrange\u001B[39m(\u001B[38;5;241m1\u001B[39m, epochs \u001B[38;5;241m+\u001B[39m \u001B[38;5;241m1\u001B[39m):\n\u001B[1;32m     79\u001B[0m     logger\u001B[38;5;241m.\u001B[39minfo(\n\u001B[1;32m     80\u001B[0m         \u001B[38;5;124m\"\u001B[39m\u001B[38;5;124mEpoch: \u001B[39m\u001B[38;5;132;01m{}\u001B[39;00m\u001B[38;5;124m/\u001B[39m\u001B[38;5;132;01m{}\u001B[39;00m\u001B[38;5;130;01m\\n\u001B[39;00m\u001B[38;5;124m=====================================\u001B[39m\u001B[38;5;124m\"\u001B[39m\u001B[38;5;241m.\u001B[39mformat(\n\u001B[1;32m     81\u001B[0m             epoch, epochs\n\u001B[1;32m     82\u001B[0m         )\n\u001B[1;32m     83\u001B[0m     )\n\u001B[0;32m---> 85\u001B[0m     training_loss \u001B[38;5;241m=\u001B[39m \u001B[43mTorchRunner\u001B[49m\u001B[38;5;241;43m.\u001B[39;49m\u001B[43mtraining_step\u001B[49m\u001B[43m(\u001B[49m\n\u001B[1;32m     86\u001B[0m \u001B[43m        \u001B[49m\u001B[43mtrain_loader\u001B[49m\u001B[43m,\u001B[49m\u001B[43m \u001B[49m\u001B[43mmodel\u001B[49m\u001B[43m,\u001B[49m\u001B[43m \u001B[49m\u001B[43mloss_fn\u001B[49m\u001B[43m,\u001B[49m\u001B[43m \u001B[49m\u001B[43moptimizer\u001B[49m\u001B[43m,\u001B[49m\u001B[43m \u001B[49m\u001B[43mdevice\u001B[49m\n\u001B[1;32m     87\u001B[0m \u001B[43m    \u001B[49m\u001B[43m)\u001B[49m\n\u001B[1;32m     88\u001B[0m     validation_loss, validation_acc \u001B[38;5;241m=\u001B[39m TorchRunner\u001B[38;5;241m.\u001B[39mtest(\n\u001B[1;32m     89\u001B[0m         val_loader, model, loss_fn, device\n\u001B[1;32m     90\u001B[0m     )\n\u001B[1;32m     92\u001B[0m     \u001B[38;5;28;01mif\u001B[39;00m (\n\u001B[1;32m     93\u001B[0m         scheduler\u001B[38;5;241m.\u001B[39m\u001B[38;5;18m__class__\u001B[39m\u001B[38;5;241m.\u001B[39m\u001B[38;5;18m__name__\u001B[39m\n\u001B[1;32m     94\u001B[0m         \u001B[38;5;241m==\u001B[39m SupportedLRSchedulers\u001B[38;5;241m.\u001B[39mREDUCE_PLATEAU\u001B[38;5;241m.\u001B[39mvalue\n\u001B[1;32m     95\u001B[0m     ):\n",
      "File \u001B[0;32m~/Documents/dev/pocs/scene-recognition/recognizer/trainer.py:47\u001B[0m, in \u001B[0;36mTorchRunner.training_step\u001B[0;34m(train_loader, model, loss_fn, optimizer, device)\u001B[0m\n\u001B[1;32m     45\u001B[0m output \u001B[38;5;241m=\u001B[39m model\u001B[38;5;241m.\u001B[39mforward(data)\n\u001B[1;32m     46\u001B[0m \u001B[38;5;66;03m# compute the loss function\u001B[39;00m\n\u001B[0;32m---> 47\u001B[0m loss_this \u001B[38;5;241m=\u001B[39m loss_fn(output, target)\n\u001B[1;32m     48\u001B[0m \u001B[38;5;66;03m# initialize the optimizer\u001B[39;00m\n\u001B[1;32m     49\u001B[0m optimizer\u001B[38;5;241m.\u001B[39mzero_grad()\n",
      "File \u001B[0;32m_pydevd_bundle/pydevd_cython_darwin_311_64.pyx:1187\u001B[0m, in \u001B[0;36m_pydevd_bundle.pydevd_cython_darwin_311_64.SafeCallWrapper.__call__\u001B[0;34m()\u001B[0m\n",
      "File \u001B[0;32m_pydevd_bundle/pydevd_cython_darwin_311_64.pyx:627\u001B[0m, in \u001B[0;36m_pydevd_bundle.pydevd_cython_darwin_311_64.PyDBFrame.trace_dispatch\u001B[0;34m()\u001B[0m\n",
      "File \u001B[0;32m_pydevd_bundle/pydevd_cython_darwin_311_64.pyx:937\u001B[0m, in \u001B[0;36m_pydevd_bundle.pydevd_cython_darwin_311_64.PyDBFrame.trace_dispatch\u001B[0;34m()\u001B[0m\n",
      "File \u001B[0;32m_pydevd_bundle/pydevd_cython_darwin_311_64.pyx:928\u001B[0m, in \u001B[0;36m_pydevd_bundle.pydevd_cython_darwin_311_64.PyDBFrame.trace_dispatch\u001B[0;34m()\u001B[0m\n",
      "File \u001B[0;32m_pydevd_bundle/pydevd_cython_darwin_311_64.pyx:585\u001B[0m, in \u001B[0;36m_pydevd_bundle.pydevd_cython_darwin_311_64.PyDBFrame.do_wait_suspend\u001B[0;34m()\u001B[0m\n",
      "File \u001B[0;32m~/Applications/PyCharm Professional Edition.app/Contents/plugins/python/helpers/pydev/pydevd.py:1184\u001B[0m, in \u001B[0;36mPyDB.do_wait_suspend\u001B[0;34m(self, thread, frame, event, arg, send_suspend_message, is_unhandled_exception)\u001B[0m\n\u001B[1;32m   1181\u001B[0m         from_this_thread\u001B[38;5;241m.\u001B[39mappend(frame_id)\n\u001B[1;32m   1183\u001B[0m \u001B[38;5;28;01mwith\u001B[39;00m \u001B[38;5;28mself\u001B[39m\u001B[38;5;241m.\u001B[39m_threads_suspended_single_notification\u001B[38;5;241m.\u001B[39mnotify_thread_suspended(thread_id, stop_reason):\n\u001B[0;32m-> 1184\u001B[0m     \u001B[38;5;28;43mself\u001B[39;49m\u001B[38;5;241;43m.\u001B[39;49m\u001B[43m_do_wait_suspend\u001B[49m\u001B[43m(\u001B[49m\u001B[43mthread\u001B[49m\u001B[43m,\u001B[49m\u001B[43m \u001B[49m\u001B[43mframe\u001B[49m\u001B[43m,\u001B[49m\u001B[43m \u001B[49m\u001B[43mevent\u001B[49m\u001B[43m,\u001B[49m\u001B[43m \u001B[49m\u001B[43marg\u001B[49m\u001B[43m,\u001B[49m\u001B[43m \u001B[49m\u001B[43msuspend_type\u001B[49m\u001B[43m,\u001B[49m\u001B[43m \u001B[49m\u001B[43mfrom_this_thread\u001B[49m\u001B[43m)\u001B[49m\n",
      "File \u001B[0;32m~/Applications/PyCharm Professional Edition.app/Contents/plugins/python/helpers/pydev/pydevd.py:1199\u001B[0m, in \u001B[0;36mPyDB._do_wait_suspend\u001B[0;34m(self, thread, frame, event, arg, suspend_type, from_this_thread)\u001B[0m\n\u001B[1;32m   1196\u001B[0m             \u001B[38;5;28mself\u001B[39m\u001B[38;5;241m.\u001B[39m_call_mpl_hook()\n\u001B[1;32m   1198\u001B[0m         \u001B[38;5;28mself\u001B[39m\u001B[38;5;241m.\u001B[39mprocess_internal_commands()\n\u001B[0;32m-> 1199\u001B[0m         \u001B[43mtime\u001B[49m\u001B[38;5;241;43m.\u001B[39;49m\u001B[43msleep\u001B[49m\u001B[43m(\u001B[49m\u001B[38;5;241;43m0.01\u001B[39;49m\u001B[43m)\u001B[49m\n\u001B[1;32m   1201\u001B[0m \u001B[38;5;28mself\u001B[39m\u001B[38;5;241m.\u001B[39mcancel_async_evaluation(get_current_thread_id(thread), \u001B[38;5;28mstr\u001B[39m(\u001B[38;5;28mid\u001B[39m(frame)))\n\u001B[1;32m   1203\u001B[0m \u001B[38;5;66;03m# process any stepping instructions\u001B[39;00m\n",
      "\u001B[0;31mKeyboardInterrupt\u001B[0m: "
     ]
    }
   ],
   "source": [
    "# Trainer\n",
    "optimiser = torch.optim.Adam(classifier.parameters(), lr=0.001, weight_decay=0.0005)\n",
    "exponential_scheduler = torch.optim.lr_scheduler.ExponentialLR(optimiser, gamma=0.99)\n",
    "plateau_scheduler = torch.optim.lr_scheduler.ReduceLROnPlateau(\n",
    "    optimiser, mode=\"min\", factor=0.2, patience=10, min_lr=0.000001\n",
    ")\n",
    "TorchRunner.train(\n",
    "    train_loader=train_loader,\n",
    "    val_loader=val_loader,\n",
    "    model=classifier,\n",
    "    loss_fn=torch.nn.functional.cross_entropy,\n",
    "    optimizer=optimiser,\n",
    "    scheduler=plateau_scheduler,\n",
    "    epochs=1,\n",
    "    device=device,\n",
    ")"
   ],
   "metadata": {
    "collapsed": false,
    "ExecuteTime": {
     "end_time": "2024-05-01T16:16:12.745989Z",
     "start_time": "2024-05-01T16:15:18.379185Z"
    }
   },
   "id": "75c677d00041fc11",
   "execution_count": 9
  },
  {
   "cell_type": "code",
   "outputs": [],
   "source": [
    "if DEBUG_MODE:\n",
    "    %reload_ext tensorboard\n",
    "    %tensorboard --logdir ../checkpoints/runs"
   ],
   "metadata": {
    "collapsed": false,
    "ExecuteTime": {
     "end_time": "2024-04-21T06:52:03.882427Z",
     "start_time": "2024-04-21T06:52:03.878882Z"
    }
   },
   "id": "280b72e4cbe93330",
   "execution_count": 10
  },
  {
   "cell_type": "code",
   "outputs": [
    {
     "name": "stderr",
     "output_type": "stream",
     "text": [
      "INFO:recognizer.trainer:Validation/Test: Average loss: 2.1015, Accuracy: 3176/8000 (39.70%)\n",
      "INFO:root:\n",
      "Post-training accuracy: 39.7%\n",
      "Post-training loss: 2.1015\n"
     ]
    }
   ],
   "source": [
    "_val_loss, _val_acc = TorchRunner.test(\n",
    "    loader=val_loader,\n",
    "    model=classifier,\n",
    "    loss_fn=torch.nn.functional.cross_entropy,\n",
    "    device=device,\n",
    ")\n",
    "logging.info(\n",
    "    f\"\\nPost-training accuracy: {round(_val_acc, 2)}%\\nPost-training loss: {round(_val_loss, 4)}\"\n",
    ")"
   ],
   "metadata": {
    "collapsed": false,
    "ExecuteTime": {
     "end_time": "2024-04-21T06:52:41.810154Z",
     "start_time": "2024-04-21T06:52:03.883908Z"
    }
   },
   "id": "ce91ba25655190ba",
   "execution_count": 11
  },
  {
   "cell_type": "code",
   "outputs": [
    {
     "name": "stderr",
     "output_type": "stream",
     "text": [
      "INFO:recognizer.trainer:Top-1 accuracy: 40.56%\n",
      "Top-5 accuracy: 75.19%\n"
     ]
    },
    {
     "data": {
      "text/plain": "dict_keys(['top_1_acc', 'top_n_acc', 'all_targets', 'data', 'top_k_scores', 'top_k_predictions'])"
     },
     "execution_count": 12,
     "metadata": {},
     "output_type": "execute_result"
    }
   ],
   "source": [
    "eval_results = TorchRunner.evaluate(\n",
    "    loader=val_loader, model=classifier, k=5, device=device\n",
    ")\n",
    "eval_results"
   ],
   "metadata": {
    "collapsed": false,
    "ExecuteTime": {
     "end_time": "2024-04-21T06:53:38.975426Z",
     "start_time": "2024-04-21T06:52:41.812213Z"
    }
   },
   "id": "2f63ac7cad897424",
   "execution_count": 12
  },
  {
   "cell_type": "code",
   "outputs": [],
   "source": [
    "classifier.save(\"../checkpoints/models/notebook-latest.safetensors\")"
   ],
   "metadata": {
    "collapsed": false,
    "ExecuteTime": {
     "end_time": "2024-04-21T06:53:39.106814Z",
     "start_time": "2024-04-21T06:53:38.978367Z"
    }
   },
   "id": "d716ea40adba4e59",
   "execution_count": 13
  }
 ],
 "metadata": {
  "kernelspec": {
   "display_name": "Python 3",
   "language": "python",
   "name": "python3"
  },
  "language_info": {
   "codemirror_mode": {
    "name": "ipython",
    "version": 2
   },
   "file_extension": ".py",
   "mimetype": "text/x-python",
   "name": "python",
   "nbconvert_exporter": "python",
   "pygments_lexer": "ipython2",
   "version": "2.7.6"
  }
 },
 "nbformat": 4,
 "nbformat_minor": 5
}
