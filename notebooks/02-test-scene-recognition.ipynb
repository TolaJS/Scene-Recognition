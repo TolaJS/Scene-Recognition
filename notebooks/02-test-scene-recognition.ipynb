{
 "cells": [
  {
   "cell_type": "markdown",
   "source": [
    "# Evaluating Scene Recognition Classifier"
   ],
   "metadata": {
    "collapsed": false
   },
   "id": "644082c44b74db2f"
  },
  {
   "cell_type": "code",
   "outputs": [],
   "source": [
    "import torch\n",
    "import logging\n",
    "\n",
    "from recognizer.data import ProjectDataset\n",
    "from recognizer.utils.visualise import Visualise\n",
    "from recognizer.model import ResNetFineTunedClassifier\n",
    "from recognizer.trainer import TorchRunner\n",
    "from recognizer.utils.types import EvalResults"
   ],
   "metadata": {
    "collapsed": false
   },
   "id": "427cb7506ab401ee",
   "execution_count": null
  },
  {
   "cell_type": "code",
   "outputs": [],
   "source": [
    "# configuring logging level\n",
    "logging.basicConfig(level=logging.INFO)\n",
    "# picking appropriate device to train the model\n",
    "if torch.cuda.is_available():\n",
    "    device = torch.device(\"cuda\")\n",
    "elif torch.backends.mps.is_available():\n",
    "    device = torch.device(\"mps\")\n",
    "else:\n",
    "    device = torch.device(\"cpu\")\n",
    "# dataset related config\n",
    "datasets_dir = \"../data\"\n",
    "training_dataset = f\"{datasets_dir}/train\"\n",
    "testing_dataset = f\"{datasets_dir}/test\"\n",
    "DEBUG_MODE = False"
   ],
   "metadata": {
    "collapsed": false
   },
   "id": "6a00e87c6edc23d6",
   "execution_count": null
  },
  {
   "cell_type": "code",
   "outputs": [],
   "source": [
    "train_loader, val_loader, test_loader = ProjectDataset.get_loaders()"
   ],
   "metadata": {
    "collapsed": false
   },
   "id": "798f8991f4124b29",
   "execution_count": null
  },
  {
   "cell_type": "code",
   "outputs": [],
   "source": [
    "if DEBUG_MODE:\n",
    "    Visualise.display_sample_per_class(test_loader)"
   ],
   "metadata": {
    "collapsed": false
   },
   "id": "7620e435f3fdec14",
   "execution_count": null
  },
  {
   "cell_type": "code",
   "outputs": [],
   "source": [
    "classifier = ResNetFineTunedClassifier()\n",
    "classifier.load(\"../checkpoints/models/latest.safetensors\")\n",
    "TorchRunner.get_summary(classifier, (3, 244, 244))"
   ],
   "metadata": {
    "collapsed": false
   },
   "id": "424f68cb6c7ab5e7",
   "execution_count": null
  },
  {
   "cell_type": "markdown",
   "source": [
    "## Test"
   ],
   "metadata": {
    "collapsed": false
   },
   "id": "25bed445e37e67d9"
  },
  {
   "cell_type": "code",
   "outputs": [],
   "source": [
    "if DEBUG_MODE:\n",
    "    _, _ = TorchRunner.test(\n",
    "        loader=test_loader,\n",
    "        model=classifier,\n",
    "        loss_fn=torch.nn.functional.cross_entropy,\n",
    "        device=device,\n",
    "    )\n",
    "\n",
    "test_results = TorchRunner.evaluate(\n",
    "    loader=test_loader, model=classifier, k=5, device=device\n",
    ")"
   ],
   "metadata": {
    "collapsed": false
   },
   "id": "9a650ac026877991",
   "execution_count": null
  },
  {
   "cell_type": "code",
   "outputs": [],
   "source": [
    "top_1_cm, top_1_precision, top_1_recall, top_1_f1 = test_results.compute_top_1_scores()\n",
    "logging.info(f\"\\nPrecision: {top_1_precision}\\nRecall: {top_1_recall}\\nF1: {top_1_f1}\")\n",
    "Visualise.plot_confusion_matrix(top_1_cm, size=(20, 17), cmap=\"Greens\")"
   ],
   "metadata": {
    "collapsed": false
   },
   "id": "b8d90b376a7dc6b9",
   "execution_count": null
  },
  {
   "cell_type": "code",
   "outputs": [],
   "source": [
    "top_k_cm, top_k_precision, top_k_recall, top_k_f1 = test_results.compute_top_k_scores()\n",
    "logging.info(f\"\\nPrecision: {top_k_precision}\\nRecall: {top_k_recall}\\nF1: {top_k_f1}\")\n",
    "Visualise.plot_confusion_matrix(top_k_cm, size=(20, 17), cmap=\"Greens\")"
   ],
   "metadata": {
    "collapsed": false
   },
   "id": "ba0f1072b43e7362",
   "execution_count": null
  },
  {
   "cell_type": "code",
   "outputs": [],
   "source": [
    "Visualise.show_results(eval_results=test_results, n=20)"
   ],
   "metadata": {
    "collapsed": false
   },
   "id": "ab02a1522e721cac",
   "execution_count": null
  }
 ],
 "metadata": {
  "kernelspec": {
   "display_name": "Python 3",
   "language": "python",
   "name": "python3"
  },
  "language_info": {
   "codemirror_mode": {
    "name": "ipython",
    "version": 2
   },
   "file_extension": ".py",
   "mimetype": "text/x-python",
   "name": "python",
   "nbconvert_exporter": "python",
   "pygments_lexer": "ipython2",
   "version": "2.7.6"
  }
 },
 "nbformat": 4,
 "nbformat_minor": 5
}
