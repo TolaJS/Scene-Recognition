{
 "cells": [
  {
   "cell_type": "markdown",
   "source": [
    "# Quantizing the Model so that its more efficient to run it on Edge Devices"
   ],
   "metadata": {
    "collapsed": false
   },
   "id": "1470f72352b5eba1"
  },
  {
   "cell_type": "code",
   "outputs": [],
   "source": [
    "import torch\n",
    "import logging\n",
    "\n",
    "from recognizer.data import ProjectDataset\n",
    "from recognizer.model import ResNetFineTunedClassifier\n",
    "from recognizer.trainer import TorchRunner"
   ],
   "metadata": {
    "collapsed": false,
    "ExecuteTime": {
     "end_time": "2024-05-12T12:41:52.225507Z",
     "start_time": "2024-05-12T12:41:50.451557Z"
    }
   },
   "id": "4df5d89825c85e61",
   "execution_count": 1
  },
  {
   "cell_type": "code",
   "outputs": [],
   "source": [
    "# configuring logging level\n",
    "logging.basicConfig(level=logging.INFO)\n",
    "# picking appropriate device to train the model\n",
    "if torch.cuda.is_available():\n",
    "    device = torch.device(\"cuda\")\n",
    "elif torch.backends.mps.is_available():\n",
    "    device = torch.device(\"mps\")\n",
    "else:\n",
    "    device = torch.device(\"cpu\")\n",
    "# dataset related config\n",
    "datasets_dir = \"../data\"\n",
    "training_dataset = f\"{datasets_dir}/train\"\n",
    "testing_dataset = f\"{datasets_dir}/test\"\n",
    "DEBUG_MODE = False"
   ],
   "metadata": {
    "collapsed": false,
    "ExecuteTime": {
     "end_time": "2024-05-12T12:41:54.423337Z",
     "start_time": "2024-05-12T12:41:54.405411Z"
    }
   },
   "id": "a8c3432f8f063ae9",
   "execution_count": 2
  },
  {
   "cell_type": "code",
   "outputs": [
    {
     "name": "stdout",
     "output_type": "stream",
     "text": [
      "----------------------------------------------------------------\n",
      "        Layer (type)               Output Shape         Param #\n",
      "================================================================\n",
      "            Conv2d-1         [-1, 64, 122, 122]           9,408\n",
      "       BatchNorm2d-2         [-1, 64, 122, 122]             128\n",
      "              ReLU-3         [-1, 64, 122, 122]               0\n",
      "         MaxPool2d-4           [-1, 64, 61, 61]               0\n",
      "            Conv2d-5           [-1, 64, 61, 61]          36,864\n",
      "       BatchNorm2d-6           [-1, 64, 61, 61]             128\n",
      "              ReLU-7           [-1, 64, 61, 61]               0\n",
      "            Conv2d-8           [-1, 64, 61, 61]          36,864\n",
      "       BatchNorm2d-9           [-1, 64, 61, 61]             128\n",
      "             ReLU-10           [-1, 64, 61, 61]               0\n",
      "       BasicBlock-11           [-1, 64, 61, 61]               0\n",
      "           Conv2d-12           [-1, 64, 61, 61]          36,864\n",
      "      BatchNorm2d-13           [-1, 64, 61, 61]             128\n",
      "             ReLU-14           [-1, 64, 61, 61]               0\n",
      "           Conv2d-15           [-1, 64, 61, 61]          36,864\n",
      "      BatchNorm2d-16           [-1, 64, 61, 61]             128\n",
      "             ReLU-17           [-1, 64, 61, 61]               0\n",
      "       BasicBlock-18           [-1, 64, 61, 61]               0\n",
      "           Conv2d-19           [-1, 64, 61, 61]          36,864\n",
      "      BatchNorm2d-20           [-1, 64, 61, 61]             128\n",
      "             ReLU-21           [-1, 64, 61, 61]               0\n",
      "           Conv2d-22           [-1, 64, 61, 61]          36,864\n",
      "      BatchNorm2d-23           [-1, 64, 61, 61]             128\n",
      "             ReLU-24           [-1, 64, 61, 61]               0\n",
      "       BasicBlock-25           [-1, 64, 61, 61]               0\n",
      "           Conv2d-26          [-1, 128, 31, 31]          73,728\n",
      "      BatchNorm2d-27          [-1, 128, 31, 31]             256\n",
      "             ReLU-28          [-1, 128, 31, 31]               0\n",
      "           Conv2d-29          [-1, 128, 31, 31]         147,456\n",
      "      BatchNorm2d-30          [-1, 128, 31, 31]             256\n",
      "           Conv2d-31          [-1, 128, 31, 31]           8,192\n",
      "      BatchNorm2d-32          [-1, 128, 31, 31]             256\n",
      "             ReLU-33          [-1, 128, 31, 31]               0\n",
      "       BasicBlock-34          [-1, 128, 31, 31]               0\n",
      "           Conv2d-35          [-1, 128, 31, 31]         147,456\n",
      "      BatchNorm2d-36          [-1, 128, 31, 31]             256\n",
      "             ReLU-37          [-1, 128, 31, 31]               0\n",
      "           Conv2d-38          [-1, 128, 31, 31]         147,456\n",
      "      BatchNorm2d-39          [-1, 128, 31, 31]             256\n",
      "             ReLU-40          [-1, 128, 31, 31]               0\n",
      "       BasicBlock-41          [-1, 128, 31, 31]               0\n",
      "           Conv2d-42          [-1, 128, 31, 31]         147,456\n",
      "      BatchNorm2d-43          [-1, 128, 31, 31]             256\n",
      "             ReLU-44          [-1, 128, 31, 31]               0\n",
      "           Conv2d-45          [-1, 128, 31, 31]         147,456\n",
      "      BatchNorm2d-46          [-1, 128, 31, 31]             256\n",
      "             ReLU-47          [-1, 128, 31, 31]               0\n",
      "       BasicBlock-48          [-1, 128, 31, 31]               0\n",
      "           Conv2d-49          [-1, 128, 31, 31]         147,456\n",
      "      BatchNorm2d-50          [-1, 128, 31, 31]             256\n",
      "             ReLU-51          [-1, 128, 31, 31]               0\n",
      "           Conv2d-52          [-1, 128, 31, 31]         147,456\n",
      "      BatchNorm2d-53          [-1, 128, 31, 31]             256\n",
      "             ReLU-54          [-1, 128, 31, 31]               0\n",
      "       BasicBlock-55          [-1, 128, 31, 31]               0\n",
      "           Conv2d-56          [-1, 256, 16, 16]         294,912\n",
      "      BatchNorm2d-57          [-1, 256, 16, 16]             512\n",
      "             ReLU-58          [-1, 256, 16, 16]               0\n",
      "           Conv2d-59          [-1, 256, 16, 16]         589,824\n",
      "      BatchNorm2d-60          [-1, 256, 16, 16]             512\n",
      "           Conv2d-61          [-1, 256, 16, 16]          32,768\n",
      "      BatchNorm2d-62          [-1, 256, 16, 16]             512\n",
      "             ReLU-63          [-1, 256, 16, 16]               0\n",
      "       BasicBlock-64          [-1, 256, 16, 16]               0\n",
      "           Conv2d-65          [-1, 256, 16, 16]         589,824\n",
      "      BatchNorm2d-66          [-1, 256, 16, 16]             512\n",
      "             ReLU-67          [-1, 256, 16, 16]               0\n",
      "           Conv2d-68          [-1, 256, 16, 16]         589,824\n",
      "      BatchNorm2d-69          [-1, 256, 16, 16]             512\n",
      "             ReLU-70          [-1, 256, 16, 16]               0\n",
      "       BasicBlock-71          [-1, 256, 16, 16]               0\n",
      "           Conv2d-72          [-1, 256, 16, 16]         589,824\n",
      "      BatchNorm2d-73          [-1, 256, 16, 16]             512\n",
      "             ReLU-74          [-1, 256, 16, 16]               0\n",
      "           Conv2d-75          [-1, 256, 16, 16]         589,824\n",
      "      BatchNorm2d-76          [-1, 256, 16, 16]             512\n",
      "             ReLU-77          [-1, 256, 16, 16]               0\n",
      "       BasicBlock-78          [-1, 256, 16, 16]               0\n",
      "           Conv2d-79          [-1, 256, 16, 16]         589,824\n",
      "      BatchNorm2d-80          [-1, 256, 16, 16]             512\n",
      "             ReLU-81          [-1, 256, 16, 16]               0\n",
      "           Conv2d-82          [-1, 256, 16, 16]         589,824\n",
      "      BatchNorm2d-83          [-1, 256, 16, 16]             512\n",
      "             ReLU-84          [-1, 256, 16, 16]               0\n",
      "       BasicBlock-85          [-1, 256, 16, 16]               0\n",
      "           Conv2d-86          [-1, 256, 16, 16]         589,824\n",
      "      BatchNorm2d-87          [-1, 256, 16, 16]             512\n",
      "             ReLU-88          [-1, 256, 16, 16]               0\n",
      "           Conv2d-89          [-1, 256, 16, 16]         589,824\n",
      "      BatchNorm2d-90          [-1, 256, 16, 16]             512\n",
      "             ReLU-91          [-1, 256, 16, 16]               0\n",
      "       BasicBlock-92          [-1, 256, 16, 16]               0\n",
      "           Conv2d-93          [-1, 256, 16, 16]         589,824\n",
      "      BatchNorm2d-94          [-1, 256, 16, 16]             512\n",
      "             ReLU-95          [-1, 256, 16, 16]               0\n",
      "           Conv2d-96          [-1, 256, 16, 16]         589,824\n",
      "      BatchNorm2d-97          [-1, 256, 16, 16]             512\n",
      "             ReLU-98          [-1, 256, 16, 16]               0\n",
      "       BasicBlock-99          [-1, 256, 16, 16]               0\n",
      "          Conv2d-100            [-1, 512, 8, 8]       1,179,648\n",
      "     BatchNorm2d-101            [-1, 512, 8, 8]           1,024\n",
      "            ReLU-102            [-1, 512, 8, 8]               0\n",
      "          Conv2d-103            [-1, 512, 8, 8]       2,359,296\n",
      "     BatchNorm2d-104            [-1, 512, 8, 8]           1,024\n",
      "          Conv2d-105            [-1, 512, 8, 8]         131,072\n",
      "     BatchNorm2d-106            [-1, 512, 8, 8]           1,024\n",
      "            ReLU-107            [-1, 512, 8, 8]               0\n",
      "      BasicBlock-108            [-1, 512, 8, 8]               0\n",
      "          Conv2d-109            [-1, 512, 8, 8]       2,359,296\n",
      "     BatchNorm2d-110            [-1, 512, 8, 8]           1,024\n",
      "            ReLU-111            [-1, 512, 8, 8]               0\n",
      "          Conv2d-112            [-1, 512, 8, 8]       2,359,296\n",
      "     BatchNorm2d-113            [-1, 512, 8, 8]           1,024\n",
      "            ReLU-114            [-1, 512, 8, 8]               0\n",
      "      BasicBlock-115            [-1, 512, 8, 8]               0\n",
      "          Conv2d-116            [-1, 512, 8, 8]       2,359,296\n",
      "     BatchNorm2d-117            [-1, 512, 8, 8]           1,024\n",
      "            ReLU-118            [-1, 512, 8, 8]               0\n",
      "          Conv2d-119            [-1, 512, 8, 8]       2,359,296\n",
      "     BatchNorm2d-120            [-1, 512, 8, 8]           1,024\n",
      "            ReLU-121            [-1, 512, 8, 8]               0\n",
      "      BasicBlock-122            [-1, 512, 8, 8]               0\n",
      "AdaptiveAvgPool2d-123            [-1, 512, 1, 1]               0\n",
      "          Linear-124                  [-1, 512]         262,656\n",
      "            ReLU-125                  [-1, 512]               0\n",
      "         Dropout-126                  [-1, 512]               0\n",
      "          Linear-127                   [-1, 40]          20,520\n",
      "      LogSoftmax-128                   [-1, 40]               0\n",
      "          ResNet-129                   [-1, 40]               0\n",
      "================================================================\n",
      "Total params: 21,567,848\n",
      "Trainable params: 283,176\n",
      "Non-trainable params: 21,284,672\n",
      "----------------------------------------------------------------\n",
      "Input size (MB): 0.68\n",
      "Forward/backward pass size (MB): 117.70\n",
      "Params size (MB): 82.27\n",
      "Estimated Total Size (MB): 200.65\n",
      "----------------------------------------------------------------\n"
     ]
    }
   ],
   "source": [
    "classifier = ResNetFineTunedClassifier()\n",
    "classifier.load(\"../checkpoints/models/latest.safetensors\")\n",
    "TorchRunner.get_summary(classifier, (3, 244, 244))"
   ],
   "metadata": {
    "collapsed": false,
    "ExecuteTime": {
     "end_time": "2024-05-12T12:41:55.651997Z",
     "start_time": "2024-05-12T12:41:55.168358Z"
    }
   },
   "id": "4c540de6b223020",
   "execution_count": 3
  },
  {
   "cell_type": "markdown",
   "source": [
    "## Analyse the current model"
   ],
   "metadata": {
    "collapsed": false
   },
   "id": "1f85cc9522f2bdee"
  },
  {
   "cell_type": "code",
   "outputs": [
    {
     "name": "stdout",
     "output_type": "stream",
     "text": [
      "Operation               OPS         \n",
      "----------------------  ----------  \n",
      "conv1                   118013952   \n",
      "bn1                     1605632     \n",
      "relu                    1605632     \n",
      "maxpool                 1605632     \n",
      "layer1_0_conv1          115605504   \n",
      "layer1_0_bn1            401408      \n",
      "layer1_0_relu           401408      \n",
      "layer1_0_conv2          115605504   \n",
      "layer1_0_bn2            401408      \n",
      "add                     401408      \n",
      "layer1_0_relu_1         401408      \n",
      "layer1_1_conv1          115605504   \n",
      "layer1_1_bn1            401408      \n",
      "layer1_1_relu           401408      \n",
      "layer1_1_conv2          115605504   \n",
      "layer1_1_bn2            401408      \n",
      "add_1                   401408      \n",
      "layer1_1_relu_1         401408      \n",
      "layer1_2_conv1          115605504   \n",
      "layer1_2_bn1            401408      \n",
      "layer1_2_relu           401408      \n",
      "layer1_2_conv2          115605504   \n",
      "layer1_2_bn2            401408      \n",
      "add_2                   401408      \n",
      "layer1_2_relu_1         401408      \n",
      "layer2_0_conv1          57802752    \n",
      "layer2_0_bn1            200704      \n",
      "layer2_0_relu           200704      \n",
      "layer2_0_conv2          115605504   \n",
      "layer2_0_bn2            200704      \n",
      "layer2_0_downsample_0   6422528     \n",
      "layer2_0_downsample_1   200704      \n",
      "add_3                   200704      \n",
      "layer2_0_relu_1         200704      \n",
      "layer2_1_conv1          115605504   \n",
      "layer2_1_bn1            200704      \n",
      "layer2_1_relu           200704      \n",
      "layer2_1_conv2          115605504   \n",
      "layer2_1_bn2            200704      \n",
      "add_4                   200704      \n",
      "layer2_1_relu_1         200704      \n",
      "layer2_2_conv1          115605504   \n",
      "layer2_2_bn1            200704      \n",
      "layer2_2_relu           200704      \n",
      "layer2_2_conv2          115605504   \n",
      "layer2_2_bn2            200704      \n",
      "add_5                   200704      \n",
      "layer2_2_relu_1         200704      \n",
      "layer2_3_conv1          115605504   \n",
      "layer2_3_bn1            200704      \n",
      "layer2_3_relu           200704      \n",
      "layer2_3_conv2          115605504   \n",
      "layer2_3_bn2            200704      \n",
      "add_6                   200704      \n",
      "layer2_3_relu_1         200704      \n",
      "layer3_0_conv1          57802752    \n",
      "layer3_0_bn1            100352      \n",
      "layer3_0_relu           100352      \n",
      "layer3_0_conv2          115605504   \n",
      "layer3_0_bn2            100352      \n",
      "layer3_0_downsample_0   6422528     \n",
      "layer3_0_downsample_1   100352      \n",
      "add_7                   100352      \n",
      "layer3_0_relu_1         100352      \n",
      "layer3_1_conv1          115605504   \n",
      "layer3_1_bn1            100352      \n",
      "layer3_1_relu           100352      \n",
      "layer3_1_conv2          115605504   \n",
      "layer3_1_bn2            100352      \n",
      "add_8                   100352      \n",
      "layer3_1_relu_1         100352      \n",
      "layer3_2_conv1          115605504   \n",
      "layer3_2_bn1            100352      \n",
      "layer3_2_relu           100352      \n",
      "layer3_2_conv2          115605504   \n",
      "layer3_2_bn2            100352      \n",
      "add_9                   100352      \n",
      "layer3_2_relu_1         100352      \n",
      "layer3_3_conv1          115605504   \n",
      "layer3_3_bn1            100352      \n",
      "layer3_3_relu           100352      \n",
      "layer3_3_conv2          115605504   \n",
      "layer3_3_bn2            100352      \n",
      "add_10                  100352      \n",
      "layer3_3_relu_1         100352      \n",
      "layer3_4_conv1          115605504   \n",
      "layer3_4_bn1            100352      \n",
      "layer3_4_relu           100352      \n",
      "layer3_4_conv2          115605504   \n",
      "layer3_4_bn2            100352      \n",
      "add_11                  100352      \n",
      "layer3_4_relu_1         100352      \n",
      "layer3_5_conv1          115605504   \n",
      "layer3_5_bn1            100352      \n",
      "layer3_5_relu           100352      \n",
      "layer3_5_conv2          115605504   \n",
      "layer3_5_bn2            100352      \n",
      "add_12                  100352      \n",
      "layer3_5_relu_1         100352      \n",
      "layer4_0_conv1          57802752    \n",
      "layer4_0_bn1            50176       \n",
      "layer4_0_relu           50176       \n",
      "layer4_0_conv2          115605504   \n",
      "layer4_0_bn2            50176       \n",
      "layer4_0_downsample_0   6422528     \n",
      "layer4_0_downsample_1   50176       \n",
      "add_13                  50176       \n",
      "layer4_0_relu_1         50176       \n",
      "layer4_1_conv1          115605504   \n",
      "layer4_1_bn1            50176       \n",
      "layer4_1_relu           50176       \n",
      "layer4_1_conv2          115605504   \n",
      "layer4_1_bn2            50176       \n",
      "add_14                  50176       \n",
      "layer4_1_relu_1         50176       \n",
      "layer4_2_conv1          115605504   \n",
      "layer4_2_bn1            50176       \n",
      "layer4_2_relu           50176       \n",
      "layer4_2_conv2          115605504   \n",
      "layer4_2_bn2            50176       \n",
      "add_15                  50176       \n",
      "layer4_2_relu_1         50176       \n",
      "avgpool                 25088       \n",
      "fc_0                    262656      \n",
      "fc_1                    1024        \n",
      "fc_3                    20520       \n",
      "---------------------   ---------   \n",
      "Input size: (1, 3, 224, 224)\n",
      "3,682,525,224 FLOPs or approx. 3.68 GFLOPs\n"
     ]
    },
    {
     "data": {
      "text/plain": "{'no_of_params': 21567848, 'size_in_memory_in_mb': 82.34, 'no_of_gflops': 3.68}"
     },
     "execution_count": 4,
     "metadata": {},
     "output_type": "execute_result"
    }
   ],
   "source": [
    "before_linear_quantization = {\n",
    "    \"no_of_params\": classifier.no_of_params(),\n",
    "    \"size_in_memory_in_mb\": round(classifier.size_in_memory() / 2**20, 2),\n",
    "    \"no_of_gflops\": round(classifier.no_of_flops()[0] / 1e9, 2),\n",
    "}\n",
    "before_linear_quantization"
   ],
   "metadata": {
    "collapsed": false,
    "ExecuteTime": {
     "end_time": "2024-05-12T12:41:57.575053Z",
     "start_time": "2024-05-12T12:41:57.489429Z"
    }
   },
   "id": "fec43090d86118db",
   "execution_count": 4
  },
  {
   "cell_type": "markdown",
   "source": [
    "## Load the dataset"
   ],
   "metadata": {
    "collapsed": false
   },
   "id": "1a3fc02bea0a3fec"
  },
  {
   "cell_type": "code",
   "outputs": [],
   "source": [
    "_, val_loader, test_loader = ProjectDataset.get_loaders()"
   ],
   "metadata": {
    "collapsed": false,
    "ExecuteTime": {
     "end_time": "2024-05-12T12:42:30.186761Z",
     "start_time": "2024-05-12T12:42:30.114829Z"
    }
   },
   "id": "1647cc06286c711b",
   "execution_count": 5
  },
  {
   "cell_type": "markdown",
   "source": [
    "## Quantise the model"
   ],
   "metadata": {
    "collapsed": false
   },
   "id": "f69b55a1fb811eca"
  },
  {
   "cell_type": "code",
   "outputs": [],
   "source": [
    "qclassifier = ResNetFineTunedClassifier()\n",
    "qclassifier.load(\"../checkpoints/models/latest.safetensors\")"
   ],
   "metadata": {
    "collapsed": false,
    "ExecuteTime": {
     "end_time": "2024-05-12T12:42:32.513508Z",
     "start_time": "2024-05-12T12:42:32.180293Z"
    }
   },
   "id": "fca4c723493fbc3d",
   "execution_count": 6
  },
  {
   "cell_type": "markdown",
   "source": [
    "### Results before quantization"
   ],
   "metadata": {
    "collapsed": false
   },
   "id": "bf6c27895ca33c9c"
  },
  {
   "cell_type": "code",
   "outputs": [
    {
     "name": "stderr",
     "output_type": "stream",
     "text": [
      "INFO:recognizer.trainer:Top-1 accuracy: 75.12%\tTop-5 accuracy: 94.69%\n"
     ]
    },
    {
     "data": {
      "text/plain": "<recognizer.utils.types.EvalResults at 0x31f3e4dd0>"
     },
     "execution_count": 7,
     "metadata": {},
     "output_type": "execute_result"
    }
   ],
   "source": [
    "TorchRunner.evaluate(\n",
    "    loader=val_loader, model=qclassifier, k=5, device=device\n",
    ")"
   ],
   "metadata": {
    "collapsed": false,
    "ExecuteTime": {
     "end_time": "2024-05-12T07:55:03.342451Z",
     "start_time": "2024-05-12T07:53:41.064327Z"
    }
   },
   "id": "868287f7f226a028",
   "execution_count": 7
  },
  {
   "cell_type": "code",
   "outputs": [
    {
     "name": "stderr",
     "output_type": "stream",
     "text": [
      "INFO:recognizer.trainer:Top-1 accuracy: 69.00%\tTop-5 accuracy: 93.71%\n"
     ]
    },
    {
     "data": {
      "text/plain": "<recognizer.utils.types.EvalResults at 0x3205f0e10>"
     },
     "execution_count": 7,
     "metadata": {},
     "output_type": "execute_result"
    }
   ],
   "source": [
    "TorchRunner.evaluate(\n",
    "    loader=test_loader, model=qclassifier, k=5, device=device\n",
    ")"
   ],
   "metadata": {
    "collapsed": false,
    "ExecuteTime": {
     "end_time": "2024-05-12T12:43:02.955785Z",
     "start_time": "2024-05-12T12:42:37.303033Z"
    }
   },
   "id": "6ef4e437d2960f77",
   "execution_count": 7
  },
  {
   "cell_type": "markdown",
   "source": [
    "### Quantisation"
   ],
   "metadata": {
    "collapsed": false
   },
   "id": "4ad85192fb108a80"
  },
  {
   "cell_type": "code",
   "outputs": [
    {
     "data": {
      "text/plain": "ResNetFineTunedClassifier(\n  (model): ResNet(\n    (conv1): Conv2d(3, 64, kernel_size=(7, 7), stride=(2, 2), padding=(3, 3), bias=False)\n    (bn1): BatchNorm2d(64, eps=1e-05, momentum=0.1, affine=True, track_running_stats=True)\n    (relu): ReLU(inplace=True)\n    (maxpool): MaxPool2d(kernel_size=3, stride=2, padding=1, dilation=1, ceil_mode=False)\n    (layer1): Sequential(\n      (0): BasicBlock(\n        (conv1): Conv2d(64, 64, kernel_size=(3, 3), stride=(1, 1), padding=(1, 1), bias=False)\n        (bn1): BatchNorm2d(64, eps=1e-05, momentum=0.1, affine=True, track_running_stats=True)\n        (relu): ReLU(inplace=True)\n        (conv2): Conv2d(64, 64, kernel_size=(3, 3), stride=(1, 1), padding=(1, 1), bias=False)\n        (bn2): BatchNorm2d(64, eps=1e-05, momentum=0.1, affine=True, track_running_stats=True)\n      )\n      (1): BasicBlock(\n        (conv1): Conv2d(64, 64, kernel_size=(3, 3), stride=(1, 1), padding=(1, 1), bias=False)\n        (bn1): BatchNorm2d(64, eps=1e-05, momentum=0.1, affine=True, track_running_stats=True)\n        (relu): ReLU(inplace=True)\n        (conv2): Conv2d(64, 64, kernel_size=(3, 3), stride=(1, 1), padding=(1, 1), bias=False)\n        (bn2): BatchNorm2d(64, eps=1e-05, momentum=0.1, affine=True, track_running_stats=True)\n      )\n      (2): BasicBlock(\n        (conv1): Conv2d(64, 64, kernel_size=(3, 3), stride=(1, 1), padding=(1, 1), bias=False)\n        (bn1): BatchNorm2d(64, eps=1e-05, momentum=0.1, affine=True, track_running_stats=True)\n        (relu): ReLU(inplace=True)\n        (conv2): Conv2d(64, 64, kernel_size=(3, 3), stride=(1, 1), padding=(1, 1), bias=False)\n        (bn2): BatchNorm2d(64, eps=1e-05, momentum=0.1, affine=True, track_running_stats=True)\n      )\n    )\n    (layer2): Sequential(\n      (0): BasicBlock(\n        (conv1): Conv2d(64, 128, kernel_size=(3, 3), stride=(2, 2), padding=(1, 1), bias=False)\n        (bn1): BatchNorm2d(128, eps=1e-05, momentum=0.1, affine=True, track_running_stats=True)\n        (relu): ReLU(inplace=True)\n        (conv2): Conv2d(128, 128, kernel_size=(3, 3), stride=(1, 1), padding=(1, 1), bias=False)\n        (bn2): BatchNorm2d(128, eps=1e-05, momentum=0.1, affine=True, track_running_stats=True)\n        (downsample): Sequential(\n          (0): Conv2d(64, 128, kernel_size=(1, 1), stride=(2, 2), bias=False)\n          (1): BatchNorm2d(128, eps=1e-05, momentum=0.1, affine=True, track_running_stats=True)\n        )\n      )\n      (1): BasicBlock(\n        (conv1): Conv2d(128, 128, kernel_size=(3, 3), stride=(1, 1), padding=(1, 1), bias=False)\n        (bn1): BatchNorm2d(128, eps=1e-05, momentum=0.1, affine=True, track_running_stats=True)\n        (relu): ReLU(inplace=True)\n        (conv2): Conv2d(128, 128, kernel_size=(3, 3), stride=(1, 1), padding=(1, 1), bias=False)\n        (bn2): BatchNorm2d(128, eps=1e-05, momentum=0.1, affine=True, track_running_stats=True)\n      )\n      (2): BasicBlock(\n        (conv1): Conv2d(128, 128, kernel_size=(3, 3), stride=(1, 1), padding=(1, 1), bias=False)\n        (bn1): BatchNorm2d(128, eps=1e-05, momentum=0.1, affine=True, track_running_stats=True)\n        (relu): ReLU(inplace=True)\n        (conv2): Conv2d(128, 128, kernel_size=(3, 3), stride=(1, 1), padding=(1, 1), bias=False)\n        (bn2): BatchNorm2d(128, eps=1e-05, momentum=0.1, affine=True, track_running_stats=True)\n      )\n      (3): BasicBlock(\n        (conv1): Conv2d(128, 128, kernel_size=(3, 3), stride=(1, 1), padding=(1, 1), bias=False)\n        (bn1): BatchNorm2d(128, eps=1e-05, momentum=0.1, affine=True, track_running_stats=True)\n        (relu): ReLU(inplace=True)\n        (conv2): Conv2d(128, 128, kernel_size=(3, 3), stride=(1, 1), padding=(1, 1), bias=False)\n        (bn2): BatchNorm2d(128, eps=1e-05, momentum=0.1, affine=True, track_running_stats=True)\n      )\n    )\n    (layer3): Sequential(\n      (0): BasicBlock(\n        (conv1): Conv2d(128, 256, kernel_size=(3, 3), stride=(2, 2), padding=(1, 1), bias=False)\n        (bn1): BatchNorm2d(256, eps=1e-05, momentum=0.1, affine=True, track_running_stats=True)\n        (relu): ReLU(inplace=True)\n        (conv2): Conv2d(256, 256, kernel_size=(3, 3), stride=(1, 1), padding=(1, 1), bias=False)\n        (bn2): BatchNorm2d(256, eps=1e-05, momentum=0.1, affine=True, track_running_stats=True)\n        (downsample): Sequential(\n          (0): Conv2d(128, 256, kernel_size=(1, 1), stride=(2, 2), bias=False)\n          (1): BatchNorm2d(256, eps=1e-05, momentum=0.1, affine=True, track_running_stats=True)\n        )\n      )\n      (1): BasicBlock(\n        (conv1): Conv2d(256, 256, kernel_size=(3, 3), stride=(1, 1), padding=(1, 1), bias=False)\n        (bn1): BatchNorm2d(256, eps=1e-05, momentum=0.1, affine=True, track_running_stats=True)\n        (relu): ReLU(inplace=True)\n        (conv2): Conv2d(256, 256, kernel_size=(3, 3), stride=(1, 1), padding=(1, 1), bias=False)\n        (bn2): BatchNorm2d(256, eps=1e-05, momentum=0.1, affine=True, track_running_stats=True)\n      )\n      (2): BasicBlock(\n        (conv1): Conv2d(256, 256, kernel_size=(3, 3), stride=(1, 1), padding=(1, 1), bias=False)\n        (bn1): BatchNorm2d(256, eps=1e-05, momentum=0.1, affine=True, track_running_stats=True)\n        (relu): ReLU(inplace=True)\n        (conv2): Conv2d(256, 256, kernel_size=(3, 3), stride=(1, 1), padding=(1, 1), bias=False)\n        (bn2): BatchNorm2d(256, eps=1e-05, momentum=0.1, affine=True, track_running_stats=True)\n      )\n      (3): BasicBlock(\n        (conv1): Conv2d(256, 256, kernel_size=(3, 3), stride=(1, 1), padding=(1, 1), bias=False)\n        (bn1): BatchNorm2d(256, eps=1e-05, momentum=0.1, affine=True, track_running_stats=True)\n        (relu): ReLU(inplace=True)\n        (conv2): Conv2d(256, 256, kernel_size=(3, 3), stride=(1, 1), padding=(1, 1), bias=False)\n        (bn2): BatchNorm2d(256, eps=1e-05, momentum=0.1, affine=True, track_running_stats=True)\n      )\n      (4): BasicBlock(\n        (conv1): Conv2d(256, 256, kernel_size=(3, 3), stride=(1, 1), padding=(1, 1), bias=False)\n        (bn1): BatchNorm2d(256, eps=1e-05, momentum=0.1, affine=True, track_running_stats=True)\n        (relu): ReLU(inplace=True)\n        (conv2): Conv2d(256, 256, kernel_size=(3, 3), stride=(1, 1), padding=(1, 1), bias=False)\n        (bn2): BatchNorm2d(256, eps=1e-05, momentum=0.1, affine=True, track_running_stats=True)\n      )\n      (5): BasicBlock(\n        (conv1): Conv2d(256, 256, kernel_size=(3, 3), stride=(1, 1), padding=(1, 1), bias=False)\n        (bn1): BatchNorm2d(256, eps=1e-05, momentum=0.1, affine=True, track_running_stats=True)\n        (relu): ReLU(inplace=True)\n        (conv2): Conv2d(256, 256, kernel_size=(3, 3), stride=(1, 1), padding=(1, 1), bias=False)\n        (bn2): BatchNorm2d(256, eps=1e-05, momentum=0.1, affine=True, track_running_stats=True)\n      )\n    )\n    (layer4): Sequential(\n      (0): BasicBlock(\n        (conv1): Conv2d(256, 512, kernel_size=(3, 3), stride=(2, 2), padding=(1, 1), bias=False)\n        (bn1): BatchNorm2d(512, eps=1e-05, momentum=0.1, affine=True, track_running_stats=True)\n        (relu): ReLU(inplace=True)\n        (conv2): Conv2d(512, 512, kernel_size=(3, 3), stride=(1, 1), padding=(1, 1), bias=False)\n        (bn2): BatchNorm2d(512, eps=1e-05, momentum=0.1, affine=True, track_running_stats=True)\n        (downsample): Sequential(\n          (0): Conv2d(256, 512, kernel_size=(1, 1), stride=(2, 2), bias=False)\n          (1): BatchNorm2d(512, eps=1e-05, momentum=0.1, affine=True, track_running_stats=True)\n        )\n      )\n      (1): BasicBlock(\n        (conv1): Conv2d(512, 512, kernel_size=(3, 3), stride=(1, 1), padding=(1, 1), bias=False)\n        (bn1): BatchNorm2d(512, eps=1e-05, momentum=0.1, affine=True, track_running_stats=True)\n        (relu): ReLU(inplace=True)\n        (conv2): Conv2d(512, 512, kernel_size=(3, 3), stride=(1, 1), padding=(1, 1), bias=False)\n        (bn2): BatchNorm2d(512, eps=1e-05, momentum=0.1, affine=True, track_running_stats=True)\n      )\n      (2): BasicBlock(\n        (conv1): Conv2d(512, 512, kernel_size=(3, 3), stride=(1, 1), padding=(1, 1), bias=False)\n        (bn1): BatchNorm2d(512, eps=1e-05, momentum=0.1, affine=True, track_running_stats=True)\n        (relu): ReLU(inplace=True)\n        (conv2): Conv2d(512, 512, kernel_size=(3, 3), stride=(1, 1), padding=(1, 1), bias=False)\n        (bn2): BatchNorm2d(512, eps=1e-05, momentum=0.1, affine=True, track_running_stats=True)\n      )\n    )\n    (avgpool): AdaptiveAvgPool2d(output_size=(1, 1))\n    (fc): Sequential(\n      (0): Linear(in_features=512, out_features=512, bias=True)\n      (1): ReLU()\n      (2): Dropout(p=0.2, inplace=False)\n      (3): Linear(in_features=512, out_features=40, bias=True)\n      (4): LogSoftmax(dim=1)\n    )\n  )\n)"
     },
     "execution_count": 8,
     "metadata": {},
     "output_type": "execute_result"
    }
   ],
   "source": [
    "# Our initial baseline model which is FP32\n",
    "qclassifier.half()"
   ],
   "metadata": {
    "collapsed": false,
    "ExecuteTime": {
     "end_time": "2024-05-12T12:43:04.895090Z",
     "start_time": "2024-05-12T12:43:04.828576Z"
    }
   },
   "id": "bd06c2fe1fb474aa",
   "execution_count": 8
  },
  {
   "cell_type": "markdown",
   "source": [
    "### Evaluating model after quantization and before fine tuning"
   ],
   "metadata": {
    "collapsed": false
   },
   "id": "e2894b336a162ef5"
  },
  {
   "cell_type": "code",
   "outputs": [
    {
     "name": "stderr",
     "output_type": "stream",
     "text": [
      "INFO:recognizer.trainer:Top-1 accuracy: 69.00%\tTop-5 accuracy: 93.71%\n"
     ]
    },
    {
     "data": {
      "text/plain": "<recognizer.utils.types.EvalResults at 0x31f420dd0>"
     },
     "execution_count": 9,
     "metadata": {},
     "output_type": "execute_result"
    }
   ],
   "source": [
    "f32_train_loader, f32_val_loader, f32_test_loader = ProjectDataset.get_loaders(f32=True)\n",
    "TorchRunner.evaluate(\n",
    "    loader=f32_test_loader, model=qclassifier, k=5, device=device\n",
    ")"
   ],
   "metadata": {
    "collapsed": false,
    "ExecuteTime": {
     "end_time": "2024-05-12T12:43:37.743107Z",
     "start_time": "2024-05-12T12:43:12.086287Z"
    }
   },
   "id": "bcb7deb648b83b8c",
   "execution_count": 9
  },
  {
   "cell_type": "markdown",
   "source": [
    "### Persisting the Model"
   ],
   "metadata": {
    "collapsed": false
   },
   "id": "8ae6fe47b9b962c9"
  },
  {
   "cell_type": "code",
   "outputs": [],
   "source": [
    "qclassifier.save(\"../checkpoints/models/latest-float16.safetensors\")"
   ],
   "metadata": {
    "collapsed": false,
    "ExecuteTime": {
     "end_time": "2024-05-12T12:43:41.190200Z",
     "start_time": "2024-05-12T12:43:41.000362Z"
    }
   },
   "id": "7521d617d3465819",
   "execution_count": 10
  },
  {
   "cell_type": "code",
   "outputs": [
    {
     "name": "stdout",
     "output_type": "stream",
     "text": [
      "Operation               OPS         \n",
      "----------------------  ----------  \n",
      "conv1                   118013952   \n",
      "bn1                     1605632     \n",
      "relu                    1605632     \n",
      "maxpool                 1605632     \n",
      "layer1_0_conv1          115605504   \n",
      "layer1_0_bn1            401408      \n",
      "layer1_0_relu           401408      \n",
      "layer1_0_conv2          115605504   \n",
      "layer1_0_bn2            401408      \n",
      "add                     401408      \n",
      "layer1_0_relu_1         401408      \n",
      "layer1_1_conv1          115605504   \n",
      "layer1_1_bn1            401408      \n",
      "layer1_1_relu           401408      \n",
      "layer1_1_conv2          115605504   \n",
      "layer1_1_bn2            401408      \n",
      "add_1                   401408      \n",
      "layer1_1_relu_1         401408      \n",
      "layer1_2_conv1          115605504   \n",
      "layer1_2_bn1            401408      \n",
      "layer1_2_relu           401408      \n",
      "layer1_2_conv2          115605504   \n",
      "layer1_2_bn2            401408      \n",
      "add_2                   401408      \n",
      "layer1_2_relu_1         401408      \n",
      "layer2_0_conv1          57802752    \n",
      "layer2_0_bn1            200704      \n",
      "layer2_0_relu           200704      \n",
      "layer2_0_conv2          115605504   \n",
      "layer2_0_bn2            200704      \n",
      "layer2_0_downsample_0   6422528     \n",
      "layer2_0_downsample_1   200704      \n",
      "add_3                   200704      \n",
      "layer2_0_relu_1         200704      \n",
      "layer2_1_conv1          115605504   \n",
      "layer2_1_bn1            200704      \n",
      "layer2_1_relu           200704      \n",
      "layer2_1_conv2          115605504   \n",
      "layer2_1_bn2            200704      \n",
      "add_4                   200704      \n",
      "layer2_1_relu_1         200704      \n",
      "layer2_2_conv1          115605504   \n",
      "layer2_2_bn1            200704      \n",
      "layer2_2_relu           200704      \n",
      "layer2_2_conv2          115605504   \n",
      "layer2_2_bn2            200704      \n",
      "add_5                   200704      \n",
      "layer2_2_relu_1         200704      \n",
      "layer2_3_conv1          115605504   \n",
      "layer2_3_bn1            200704      \n",
      "layer2_3_relu           200704      \n",
      "layer2_3_conv2          115605504   \n",
      "layer2_3_bn2            200704      \n",
      "add_6                   200704      \n",
      "layer2_3_relu_1         200704      \n",
      "layer3_0_conv1          57802752    \n",
      "layer3_0_bn1            100352      \n",
      "layer3_0_relu           100352      \n",
      "layer3_0_conv2          115605504   \n",
      "layer3_0_bn2            100352      \n",
      "layer3_0_downsample_0   6422528     \n",
      "layer3_0_downsample_1   100352      \n",
      "add_7                   100352      \n",
      "layer3_0_relu_1         100352      \n",
      "layer3_1_conv1          115605504   \n",
      "layer3_1_bn1            100352      \n",
      "layer3_1_relu           100352      \n",
      "layer3_1_conv2          115605504   \n",
      "layer3_1_bn2            100352      \n",
      "add_8                   100352      \n",
      "layer3_1_relu_1         100352      \n",
      "layer3_2_conv1          115605504   \n",
      "layer3_2_bn1            100352      \n",
      "layer3_2_relu           100352      \n",
      "layer3_2_conv2          115605504   \n",
      "layer3_2_bn2            100352      \n",
      "add_9                   100352      \n",
      "layer3_2_relu_1         100352      \n",
      "layer3_3_conv1          115605504   \n",
      "layer3_3_bn1            100352      \n",
      "layer3_3_relu           100352      \n",
      "layer3_3_conv2          115605504   \n",
      "layer3_3_bn2            100352      \n",
      "add_10                  100352      \n",
      "layer3_3_relu_1         100352      \n",
      "layer3_4_conv1          115605504   \n",
      "layer3_4_bn1            100352      \n",
      "layer3_4_relu           100352      \n",
      "layer3_4_conv2          115605504   \n",
      "layer3_4_bn2            100352      \n",
      "add_11                  100352      \n",
      "layer3_4_relu_1         100352      \n",
      "layer3_5_conv1          115605504   \n",
      "layer3_5_bn1            100352      \n",
      "layer3_5_relu           100352      \n",
      "layer3_5_conv2          115605504   \n",
      "layer3_5_bn2            100352      \n",
      "add_12                  100352      \n",
      "layer3_5_relu_1         100352      \n",
      "layer4_0_conv1          57802752    \n",
      "layer4_0_bn1            50176       \n",
      "layer4_0_relu           50176       \n",
      "layer4_0_conv2          115605504   \n",
      "layer4_0_bn2            50176       \n",
      "layer4_0_downsample_0   6422528     \n",
      "layer4_0_downsample_1   50176       \n",
      "add_13                  50176       \n",
      "layer4_0_relu_1         50176       \n",
      "layer4_1_conv1          115605504   \n",
      "layer4_1_bn1            50176       \n",
      "layer4_1_relu           50176       \n",
      "layer4_1_conv2          115605504   \n",
      "layer4_1_bn2            50176       \n",
      "add_14                  50176       \n",
      "layer4_1_relu_1         50176       \n",
      "layer4_2_conv1          115605504   \n",
      "layer4_2_bn1            50176       \n",
      "layer4_2_relu           50176       \n",
      "layer4_2_conv2          115605504   \n",
      "layer4_2_bn2            50176       \n",
      "add_15                  50176       \n",
      "layer4_2_relu_1         50176       \n",
      "avgpool                 25088       \n",
      "fc_0                    262656      \n",
      "fc_1                    1024        \n",
      "fc_3                    20520       \n",
      "---------------------   ---------   \n",
      "Input size: (1, 3, 224, 224)\n",
      "3,682,525,224 FLOPs or approx. 3.68 GFLOPs\n"
     ]
    },
    {
     "data": {
      "text/plain": "{'no_of_params': 21567848, 'size_in_memory_in_mb': 41.17, 'no_of_gflops': 3.68}"
     },
     "execution_count": 11,
     "metadata": {},
     "output_type": "execute_result"
    }
   ],
   "source": [
    "qclassifier.to(\"cpu\")\n",
    "after_linear_quantization = {\n",
    "    \"no_of_params\": qclassifier.no_of_params(),\n",
    "    \"size_in_memory_in_mb\": round(qclassifier.size_in_memory() / 2**20, 2),\n",
    "    \"no_of_gflops\": round(qclassifier.no_of_flops(dtype=torch.float16)[0] / 1e9, 2),\n",
    "}\n",
    "after_linear_quantization"
   ],
   "metadata": {
    "collapsed": false,
    "ExecuteTime": {
     "end_time": "2024-05-12T12:43:52.186301Z",
     "start_time": "2024-05-12T12:43:43.641101Z"
    }
   },
   "id": "db7d2574cb334338",
   "execution_count": 11
  }
 ],
 "metadata": {
  "kernelspec": {
   "display_name": "Python 3",
   "language": "python",
   "name": "python3"
  },
  "language_info": {
   "codemirror_mode": {
    "name": "ipython",
    "version": 2
   },
   "file_extension": ".py",
   "mimetype": "text/x-python",
   "name": "python",
   "nbconvert_exporter": "python",
   "pygments_lexer": "ipython2",
   "version": "2.7.6"
  }
 },
 "nbformat": 4,
 "nbformat_minor": 5
}
